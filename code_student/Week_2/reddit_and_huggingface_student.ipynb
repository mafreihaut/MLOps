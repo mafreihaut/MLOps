{
 "cells": [
  {
   "cell_type": "markdown",
   "id": "d4c26611",
   "metadata": {},
   "source": [
    "<p align = \"center\" draggable=”false” ><img src=\"https://user-images.githubusercontent.com/37101144/161836199-fdb0219d-0361-4988-bf26-48b0fad160a3.png\" \n",
    "     width=\"200px\"\n",
    "     height=\"auto\"/>\n",
    "</p>\n",
    "\n",
    "# Reddit and HuggingFace Starter Kit"
   ]
  },
  {
   "cell_type": "markdown",
   "id": "75492137",
   "metadata": {},
   "source": [
    "## Part I: [Reddit API](https://www.reddit.com/dev/api/)\n",
    "The first part of this excercise is to figure out how to instantiate a Reddit API object using the Python Reddit API Wrapper [PRAW](https://praw.readthedocs.io/en/stable/).  PRAW is a Python library that provides a simple interfaceto interact with the Reddit API.\n",
    "\n",
    "### Your Task\n",
    "You will first need to instantiate a [Reddit instance](https://praw.readthedocs.io/en/stable/code_overview/reddit_instance.html).\n",
    "Hint: you only need to use `client_id`, `client_secret`, and `user_agent`\n",
    "\n",
    "#### Make sure everyone in the group does this part! \n",
    "\n",
    "Follow the guide below on how to get your `client_id` and `client_secret`.\n",
    "\n",
    "#### Follow these steps:\n",
    "1. Pull the `FourthBrain/ML03` repo locally so you can start development.\n",
    "2. Open `reddit_and_huggingface.ipynb` and install the necessary packages for this lesson by running:\n",
    "\n",
    "    ```\n",
    "    cd code_student/Week_2\n",
    "    conda activate {your_virtual_environment_name}\n",
    "    pip install transformers praw torch torchvision torchaudio\n",
    "    ```\n",
    "    \n",
    "3. Obtain your `client_id` and `client_secret`\n",
    "\n",
    "* Make a Reddit account\n",
    "* Follow the steps in this screenshot which are the first steps from this [guide](https://towardsdatascience.com/how-to-use-the-reddit-api-in-python-5e05ddfd1e5c).\n",
    "\n",
    "![instructions to set up reddit api](../../images/reddit_get_access.JPG)\n",
    "\n",
    "* Create a `secrets.py` file and include the following:\n",
    "\n",
    "    ```\n",
    "    REDDIT_API_CLIENT_ID = \"\"\n",
    "    REDDIT_API_CLIENT_SECRET = \"\"\n",
    "    REDDIT_API_USER_AGENT = {can_be_any_string...for ex: \"teslabot\"}\n",
    "    ```\n",
    "    Get it?  [Teslabot :)](https://www.tesla.com/AIhttps://www.tesla.com/AI)\n",
    "    \n",
    "\n",
    "* Put `secrets.py` in `Week_2` so you can easily import it\n",
    "\n",
    "4. Complete the code in the `# YOUR CODE HERE` space below that creates a reddit instance object that allows us to interact with the Reddit API.  Note that the `subreddit` object for the 'r/TSLA' subreddit has already been created for you."
   ]
  },
  {
   "cell_type": "code",
   "execution_count": 4,
   "id": "96e28955-3618-4f89-9572-03493045b233",
   "metadata": {},
   "outputs": [
    {
     "name": "stdout",
     "output_type": "stream",
     "text": [
      "Collecting transformers\n",
      "  Downloading transformers-4.18.0-py3-none-any.whl (4.0 MB)\n",
      "\u001b[K     |████████████████████████████████| 4.0 MB 4.1 MB/s eta 0:00:01\n",
      "\u001b[?25hRequirement already satisfied: praw in /Users/matthewfreihaut/opt/anaconda3/lib/python3.8/site-packages (7.5.0)\n",
      "Collecting torch\n",
      "  Downloading torch-1.11.0-cp38-none-macosx_10_9_x86_64.whl (129.9 MB)\n",
      "\u001b[K     |████████████████████████████████| 129.9 MB 91 kB/s  eta 0:00:01\n",
      "\u001b[?25hCollecting torchvision\n",
      "  Downloading torchvision-0.12.0-cp38-cp38-macosx_10_9_x86_64.whl (1.3 MB)\n",
      "\u001b[K     |████████████████████████████████| 1.3 MB 4.2 MB/s eta 0:00:01\n",
      "\u001b[?25hCollecting torchaudio\n",
      "  Downloading torchaudio-0.11.0-cp38-cp38-macosx_10_15_x86_64.whl (2.4 MB)\n",
      "\u001b[K     |████████████████████████████████| 2.4 MB 4.1 MB/s eta 0:00:01\n",
      "\u001b[?25hRequirement already satisfied: websocket-client>=0.54.0 in /Users/matthewfreihaut/opt/anaconda3/lib/python3.8/site-packages (from praw) (1.3.2)\n",
      "Requirement already satisfied: update-checker>=0.18 in /Users/matthewfreihaut/opt/anaconda3/lib/python3.8/site-packages (from praw) (0.18.0)\n",
      "Requirement already satisfied: prawcore<3,>=2.1 in /Users/matthewfreihaut/opt/anaconda3/lib/python3.8/site-packages (from praw) (2.3.0)\n",
      "Requirement already satisfied: requests<3.0,>=2.6.0 in /Users/matthewfreihaut/opt/anaconda3/lib/python3.8/site-packages (from prawcore<3,>=2.1->praw) (2.25.1)\n",
      "Requirement already satisfied: certifi>=2017.4.17 in /Users/matthewfreihaut/opt/anaconda3/lib/python3.8/site-packages (from requests<3.0,>=2.6.0->prawcore<3,>=2.1->praw) (2020.12.5)\n",
      "Requirement already satisfied: urllib3<1.27,>=1.21.1 in /Users/matthewfreihaut/opt/anaconda3/lib/python3.8/site-packages (from requests<3.0,>=2.6.0->prawcore<3,>=2.1->praw) (1.26.4)\n",
      "Requirement already satisfied: idna<3,>=2.5 in /Users/matthewfreihaut/opt/anaconda3/lib/python3.8/site-packages (from requests<3.0,>=2.6.0->prawcore<3,>=2.1->praw) (2.10)\n",
      "Requirement already satisfied: chardet<5,>=3.0.2 in /Users/matthewfreihaut/opt/anaconda3/lib/python3.8/site-packages (from requests<3.0,>=2.6.0->prawcore<3,>=2.1->praw) (4.0.0)\n",
      "Requirement already satisfied: typing-extensions in /Users/matthewfreihaut/opt/anaconda3/lib/python3.8/site-packages (from torch) (4.1.1)\n",
      "Requirement already satisfied: pillow!=8.3.*,>=5.3.0 in /Users/matthewfreihaut/opt/anaconda3/lib/python3.8/site-packages (from torchvision) (8.2.0)\n",
      "Requirement already satisfied: numpy in /Users/matthewfreihaut/opt/anaconda3/lib/python3.8/site-packages (from torchvision) (1.22.1)\n",
      "Requirement already satisfied: pyyaml>=5.1 in /Users/matthewfreihaut/opt/anaconda3/lib/python3.8/site-packages (from transformers) (5.4.1)\n",
      "Collecting huggingface-hub<1.0,>=0.1.0\n",
      "  Downloading huggingface_hub-0.5.1-py3-none-any.whl (77 kB)\n",
      "\u001b[K     |████████████████████████████████| 77 kB 4.6 MB/s eta 0:00:011\n",
      "\u001b[?25hRequirement already satisfied: regex!=2019.12.17 in /Users/matthewfreihaut/opt/anaconda3/lib/python3.8/site-packages (from transformers) (2021.4.4)\n",
      "Collecting sacremoses\n",
      "  Downloading sacremoses-0.0.49-py3-none-any.whl (895 kB)\n",
      "\u001b[K     |████████████████████████████████| 895 kB 6.1 MB/s eta 0:00:01\n",
      "\u001b[?25hCollecting tokenizers!=0.11.3,<0.13,>=0.11.1\n",
      "  Downloading tokenizers-0.11.6-cp38-cp38-macosx_10_11_x86_64.whl (3.6 MB)\n",
      "\u001b[K     |████████████████████████████████| 3.6 MB 4.1 MB/s eta 0:00:01\n",
      "\u001b[?25hRequirement already satisfied: filelock in /Users/matthewfreihaut/opt/anaconda3/lib/python3.8/site-packages (from transformers) (3.0.12)\n",
      "Requirement already satisfied: tqdm>=4.27 in /Users/matthewfreihaut/opt/anaconda3/lib/python3.8/site-packages (from transformers) (4.59.0)\n",
      "Requirement already satisfied: packaging>=20.0 in /Users/matthewfreihaut/opt/anaconda3/lib/python3.8/site-packages (from transformers) (20.9)\n",
      "Requirement already satisfied: pyparsing>=2.0.2 in /Users/matthewfreihaut/opt/anaconda3/lib/python3.8/site-packages (from packaging>=20.0->transformers) (2.4.7)\n",
      "Requirement already satisfied: joblib in /Users/matthewfreihaut/opt/anaconda3/lib/python3.8/site-packages (from sacremoses->transformers) (1.0.1)\n",
      "Requirement already satisfied: six in /Users/matthewfreihaut/opt/anaconda3/lib/python3.8/site-packages (from sacremoses->transformers) (1.15.0)\n",
      "Requirement already satisfied: click in /Users/matthewfreihaut/opt/anaconda3/lib/python3.8/site-packages (from sacremoses->transformers) (7.1.2)\n",
      "Installing collected packages: torch, tokenizers, sacremoses, huggingface-hub, transformers, torchvision, torchaudio\n",
      "Successfully installed huggingface-hub-0.5.1 sacremoses-0.0.49 tokenizers-0.11.6 torch-1.11.0 torchaudio-0.11.0 torchvision-0.12.0 transformers-4.18.0\n"
     ]
    }
   ],
   "source": [
    "\n",
    "!pip install transformers praw torch torchvision torchaudio -q\n"
   ]
  },
  {
   "cell_type": "code",
   "execution_count": 1,
   "id": "d170503b",
   "metadata": {},
   "outputs": [],
   "source": [
    "import praw\n",
    "from transformers import pipeline\n",
    "import secrets\n",
    "\n",
    "reddit = praw.Reddit(\n",
    "        \n",
    "    client_id=secrets.REDDIT_API_CLIENT_ID,\n",
    "    client_secret=secrets.REDDIT_API_CLIENT_SECRET,\n",
    "    user_agent=secrets.REDDIT_API_USER_AGENT\n",
    ")\n",
    "\n",
    "subreddit = reddit.subreddit('TSLA')"
   ]
  },
  {
   "cell_type": "code",
   "execution_count": 2,
   "id": "2b9ef45f-7410-4050-a969-4110056ea6fe",
   "metadata": {},
   "outputs": [
    {
     "data": {
      "text/plain": [
       "Subreddit(display_name='TSLA')"
      ]
     },
     "execution_count": 2,
     "metadata": {},
     "output_type": "execute_result"
    }
   ],
   "source": [
    "subreddit"
   ]
  },
  {
   "cell_type": "markdown",
   "id": "d2393834",
   "metadata": {},
   "source": [
    "## Part II:  [r/TSLA Subreddit](https://www.reddit.com/r/TSLA/)\n",
    "The second part of this exercise is to figure out how to the following code is parsing comments through use of the r/TSLA `subreddit` instance object.\n",
    "\n",
    "### Your Task\n",
    "1. Work with your group to comment each line of the following code so that you describe what each piece is doing.\n",
    "2. Create one comment at the top of the code that describes what the larger for loop is iterating over.  \n",
    "3. (Optional) How many comments will I get from this?\n",
    "\n",
    "A few resources that might help!\n",
    "* How do I find the top 10 posts of all time from your favorite subreddit(s)? (hint: look at [\"Obtain Submission Instances from a Subreddit\"](https://praw.readthedocs.io/en/stable/getting_started/quick_start.html))\n",
    "* How do I parse comments from the post? (hint: look at [\"Obtain Submission Instances from a Subreddit\"](https://praw.readthedocs.io/en/stable/getting_started/quick_start.html))"
   ]
  },
  {
   "cell_type": "code",
   "execution_count": 3,
   "id": "e761f263",
   "metadata": {},
   "outputs": [],
   "source": [
    "# imports package\n",
    "from praw.models import MoreComments\n",
    "\n",
    "#creates an empty list to store data\n",
    "top_comments = []\n",
    "\n",
    "\n",
    "for submission in subreddit.top(limit=10):\n",
    "    for top_level_comment in submission.comments:\n",
    "        if isinstance(top_level_comment, MoreComments):\n",
    "                    continue\n",
    "        top_comments.append(top_level_comment.body)"
   ]
  },
  {
   "cell_type": "code",
   "execution_count": 4,
   "id": "ae8461d0-425d-4693-9e25-3a9bea9300b3",
   "metadata": {},
   "outputs": [
    {
     "data": {
      "text/plain": [
       "['ho lee fuk \\n\\nyou got anymore insider information? 👀👀',\n",
       " \"What will happen if you post that GME it's the new buy target from them? 🤣\",\n",
       " 'When are you all buying $DOGE, and how much will you all buy?',\n",
       " 'Papa Musk?? 😘😘😘',\n",
       " 'I really don’t understand what Musk is trying to do. It seems he is trying to legitimize BTC and create a sustainable ecosystem for it. But I question whether Tesla shareholders are going to be happy with such an unplanned use of invested capital. Musk is not the majority of Tesla, and big shareholders are very very picky about where their portion of $1.5bm goes to!',\n",
       " \"lmk when they start loading up on Doge and I'm in\",\n",
       " '[deleted]',\n",
       " 'When is DOGE flying',\n",
       " 'Are they gonna fire you lol',\n",
       " \"You're a fucking legend\",\n",
       " 'Give this man a raise! (In BTC)',\n",
       " 'Do you have twitter or instagram?',\n",
       " \"Could you point me in the right direction on to how to code one of this bots myself. I'm a developer and have an extensive trade background. I've been interested in trading algos for a while, but have no idea where is the best place to start learning\",\n",
       " 'Elon....come on.....we got ya...right?',\n",
       " 'BEEEEET-CO-NNNNNNNNNNEEEEEEEEEEEEEEEECT',\n",
       " 'Are you legally allowed to share that information though before they announced it?',\n",
       " 'trust the process',\n",
       " 'Let’s see if this investment has any effect on the actual stock. Good or bad.',\n",
       " 'Some of us only read, rarely post.',\n",
       " 'Have you ever talked with Elon? Could say few words about him? Thanks',\n",
       " 'You did - nicely done !!!',\n",
       " 'What will trigger the sell bot? How much % down swing?',\n",
       " 'WOW DUDE YOUR AWSOME !!',\n",
       " 'Which other Crypto do Tesla plan to approve?',\n",
       " 'I followed.',\n",
       " 'I followed you, maybe next time',\n",
       " 'This guy!!',\n",
       " 'When $ETH?',\n",
       " 'This was def just a prediction. Not an insider. He keep Rick rolling people -_____-',\n",
       " 'Good one @TSLAinsider 👍\\n*thefeelsofbeeingright 🤩',\n",
       " 'Sup',\n",
       " 'Elon?',\n",
       " 'You sure did. Great heads up. Your awesome!!!',\n",
       " 'Shiiiiit',\n",
       " 'Or you are actually an insider and freaked out that the post got attention lol. \\n\\nPm me with the next hot tip lol',\n",
       " 'Best advice I can possibly give just keep taking LSD if you are having those types of epiphanies LOL',\n",
       " 'Enjoy getting fired.',\n",
       " 'Lies...why would an R&D person in the company be involved in this? I don’t buy it.',\n",
       " '[removed]',\n",
       " \"Well since TSLA's last split was 5 to 1 at around $2,500, and since Elon said he doesn't want  split any time soon, I don't think it will happen, even though a lot of people want it to happen.\",\n",
       " 'I think you mean 5 for 1',\n",
       " \"I'd like to sell my one tesla share for 10 million. Thanks\",\n",
       " \"Would be great but Elon said he wasn't in a hurry to do that again\",\n",
       " 'I’m holding 34 shares at $418 average. Will I be able to average down once the stock splits?',\n",
       " 'I’m here for the split 😎',\n",
       " 'It would make sense to do a split soon so that more people can buy into it. I hope Elon splits it before the end of the year',\n",
       " 'You are confused!!!!!!',\n",
       " 'I can see a split after Elon sells his 10% as an announcement would drive up the price.',\n",
       " 'Yes Yes Yes',\n",
       " 'Definitely would like.',\n",
       " 'Tbh it’s only a matter of time',\n",
       " 'Thing is he only earns 10% of Tesla so if it’s a majority vote he has no choice but to split',\n",
       " 'Here is a very interesting theory/conspiracy https://twitter.com/robgrav3s/status/1461111661310398469?s=10',\n",
       " 'Send a tweet to papa Musk',\n",
       " 'It’s gonna happen 10000000000000% on December 9th exactly',\n",
       " '[removed]',\n",
       " 'Holding shares, happy with position, and wait for another 5:1 split. Smells like money and taste like chicken.  Let’s see what happens. For me I can buy TSLA car and drive a Honda HRV.  Why show your money, when you can buy more stonks. Upvote for others to read. This is the way and so say we all.',\n",
       " 'Me too. I am all dipped out. 400 shares long on Tesla. Made plenty of money bought and sold. Waiting for another split. Let’s run this to 10,000',\n",
       " '[removed]',\n",
       " '🙄 Literally me and TSLA right before this biiiiig \"correction\"',\n",
       " 'Hehehehe I am long on Tesla. It is better than FAANG except aapl.',\n",
       " \"So funny! Same thing can't buy anymore dips\",\n",
       " 'I feel the pain... I’m embarrassed if people look at my screen and see today’s expiration value 😢',\n",
       " ' Q4 sales at average 50k per vehicle would mean 9B sales or 36B on yearly basis (very optimistic), margin 12% (very high) would mean 4$ per share, real profit is 0,59, get it?',\n",
       " 'FACTS SIR!!!😒😌😔😪',\n",
       " 'One of these days also TSLA will have to show profits in line with its stock prize, that defines the ultimate dip target, we are way too high right now',\n",
       " 'People need to stop talking about a stock split. It’s not productive. With the ability to buy fractional shares from most brokerages, it isn’t needed. \\n\\nRealistically, the share price should be in the $800 range, and should have been coming out of earnings. The run to the $1200s was a gamma squeeze triggered by that Hertz announcement. No technical support for it. Where we are now is not a dip. It’s the unwinding of shares purchased to hedge that’s pushing it down. When we get back to $800s, expected. If we get to $700s, dip and incredible buying opportunity. Sustained growth requires some pullback, support, resistance, and testing both. Elon selling stock is a distraction. He owns ~20% of Tesla. Selling 10% of that is 2%, which gets swallowed up by regular trading volume. Keep buying, be patient, we’ll eventually get back over $1200 with proper support. Might take a few years.',\n",
       " 'TSLA is a promising stock, as long as it keeps on promising.',\n",
       " 'MUSK sells promises (memes) primarily, and products, secondarily.  TSLA sells EVs but what does SpaceX, Boring Co., Neuralink, Skylink, etc sell?  Promises, but not even that, just ideas of uncertain utility and unclear profitability.  He even jumped into crypto with Dogecoin.   One of these ideas or memes may prove profitable, but highly unlikely for the retail investor to win with any one memes of his.  TSLA is an interesting idea, but not practical for long range driving, especially when factoring in the safety issue of evacuating from foci of natural or man made disasters.',\n",
       " '60 shares @ $40.32 cps holding strong!',\n",
       " \"Can't say I'm super OG, but I've been following the company since 2016ish when I was a freshman in high school, and as soon as I got a bank account in 2020 I bought 1 share. I've been adding more since, without selling, and now I'm up to 8.5 shares at an average cost of 583.\",\n",
       " 'I just buy more',\n",
       " '75 Shares baby \\n\\n90% of my portfolio',\n",
       " 'Never sell! OG',\n",
       " 'Still holding 20 shares . I’m kinda poor',\n",
       " 'This stock will be worth 20 fold in 10 years time the way it’s going',\n",
       " 'Holy shit! I went from up +32k to down 3k to back up 20k! Never sold, just kept adding on the way down!',\n",
       " '🖐️not touching my TSLA for the next 4-5 years at least.',\n",
       " \"Jumped in for the first time at $805. I'm a happy camper :)\",\n",
       " 'Nope I wussed out with the economy and Russia. And to top it off I bought a lot near the peak- $1052 and sold it off well under that. \\n\\nFortunately I lost $50 only. I bought/sold more as it made its descent into hell and back. \\n\\nUnfortunately I should have held when it was at below $800. \\n\\nI’ll buy it. But not at $1000.  I simply cannot imagine this going to $2000 with all that’s going outside of Tesla’s control. \\n\\nI’ll look at $900, maybe dip in at $800 and love it at $700.',\n",
       " 'I Really Don’t understand what to write Trying to help.',\n",
       " '55@340. Why would I leave?  I just need to get better at adding more.',\n",
       " \"Holding 415 shares since 450 (presplit)\\nI'm gonna hold for another 5-10 years.\\n\\n\\nIf Tsla eventually overpasses Apple as the most valuable company ill become a Teslionaire!!\",\n",
       " '🙌 I have never sold a share since 2017, and keep dollar cost averaging in.',\n",
       " \"didn't sell shares today\\n\\nauto executed 2 trailing stop loss options with 87% profit. fuck yeah!\",\n",
       " '820 shares and 4 longterm puts sold for about 100k premium (strike between 600 and 900)\\nbought first share in Dec 2018 and only added until then. hope I can retire in 5 years 😆',\n",
       " '10 from 500 days. Bought one more during 800 low last week. Wishing my tax return would come in before giga Austin opens up!',\n",
       " 'I NEVER SOLD MY CHAIRS !!!!!\\n\\nEVEN IF MY SELL LIMIT\\nORDER OF 1,200 hits \\n\\nI’ll be there to catch Tesla at any falling knife event \\n\\nMe and Tesla have the world to\\nSave \\n\\n#AVENGERS ASSMEBLE\\nTESLA COCCK',\n",
       " \"I stayed long.\\n\\nNot because of faith.\\n\\nBecause of Tesla's increasing dominance and profit.\",\n",
       " 'When’s this stock split happening ?',\n",
       " 'Stacked up on Tesla and big oil 2 years ago. Can’t be happier.',\n",
       " '15 \\n\\nDoesn’t matter what the market does \\n\\nThese 15 aren’t going anywhere',\n",
       " 'How high is it projected to go? Just found out I have quite a few shares still from when I bought years ago. Sold a few of them back then and somehow forgot I had others!',\n",
       " 'Maybe we’re all a little crazy…but I’m holding and hoping that it’s a great call today. It will be brutal if there are surprises in Q1 or forecast. Hopefully Shanghai won’t be a reason for continued selling. Investors are in a bear mood over NFLX!',\n",
       " 'I consolidated my losing options to one new option and made some good money on it so far but not enough to cover the losses. :/ still have my stock though.',\n",
       " 'Over valued stock right now. Will definitely buy back when it hits 100-300 bucks.',\n",
       " 'Every Friday.',\n",
       " 'Buy one on first day of the month.',\n",
       " 'Sucks to be poor 😭',\n",
       " 'Me for the past two years',\n",
       " 'Buy the dips, because Musk needs your money to pay his taxes.',\n",
       " 'Tesla is a steal at the current price. Buy the stock and see$1000 by the end of August.',\n",
       " 'I bought back when it was bouncing around $300s pre split. Then it went up to $800 + pre split down back to $300s. I was too scared to buy more but finally did around $490 pre split. When everyone asked if I sold I said I bought more. And here we are... this past couple of weeks have been painful but I do believe in TSLA long term. It’s going to be hard stomaching any more “dips” but I’m trying to stay in perspective. It’s really hard trying to see big picture sometimes. Ugh. Hang on everyone!\\n  \\n\\nAverage cost per share $49 (bought before split)',\n",
       " 'I’m not gunna lie I haven’t been investing for long and have been testing the waters but when I seen TSLA so cheap i bought a full share, I realise this isn’t a lot to some people but it is to me haha, Gunna hold this bad boy indefinitely',\n",
       " 'Buying more is my strategy. \\n\\nI sold mine to lock in profit from 2015 and been waiting for this moment. (I was so worry that I will never get the stocks again lol...now I’m happy.) I keep buying 10 more on each down day starting from $785.',\n",
       " '[deleted]',\n",
       " 'I saw a Tesla go from $173 to $1500. Elon musk is a beast. He’s always fighting off the short sellers and still on top. It’s like all the Rocky movies doesn’t matter how many times you hit him he just keeps coming back until you’re too weak to fight back and then Bam a legend is made. Don’t take my word for it do you’re own  research. If I had a nickel for every time I heard someone say I wish I would’ve bought it when it was low....',\n",
       " 'What do you think make the shorts choose TSLA?\\n\\nYour refusal to see reality is music to their ears, they sell more at your expense. The index players know this but it takes time for them to get out.',\n",
       " 'Title sounds delusional ...',\n",
       " 'There wasn’t really any bad news for Tesla, everything looks great so far. The old boys club is just trying to weed out the retail.',\n",
       " 'Tesla share is at 40% discount right now. Buy it or leave it.',\n",
       " 'Diamond hands 🙌 hold to the fucking moon. I’m gonna smoke a bowl and eat crayons',\n",
       " 'Cathie Woods is prepping a new price target. Should alleviate some FUD',\n",
       " \"$580 and falling today. What's your price target?\",\n",
       " 'Partially agree. It will reach $2000 in 2025. \\n\\nI had around the same 12K in 2017- took some profit in late Jan. Came back again at $530 today. You need some profit taking as well its good for everybody',\n",
       " 'The Great Short of TSLA is not Burry, but MUSK!',\n",
       " 'My 10k became 6k',\n",
       " \"Oh for the love of all that's holy.\\n\\nTSLA is falling for the same reason many other tech and growth stocks are falling. Money is simply being diversified into recovery stocks, because the real economy (remember that?) is recovering. Interest rates may rise, so yields may rise too, and so the smart money is moving into more traditional companies. It's a cycle, it always happens, and if you're investing and don't know this simple stuff, well then good luck with your strategy.\\n\\nNo one is saying Tesla is in trouble or going to fail or not still an incredible company and worth buying, but it's just there are other stocks now worth buying and stock prices are relative to one another.\\n\\nIf you believe and don't need the money, hold. If you were in it for a quick fix, you might get hurt.\",\n",
       " 'That stupidity of Bitcoin buying spooked a lot of investors. Now Musk tied his and every investors ass to BTC. It was a Bad Move to go out buying Criptos and blowing dog whistles at an idiotic asset like Dogecoin. That conveys non sereousness on part of Musk. On Wall Street Perception is Everything. Now we are Bleeding.',\n",
       " 'Interesting, looks like this sub is still bullish!',\n",
       " 'I bot 1 share today u/596',\n",
       " 'Meh come back to fight another day',\n",
       " '😂😂😂 hold it! Be a macho and hold till the end 😂😂😂',\n",
       " \"Got it at @400.00 and see it to $901.00 until now, I won't sale for ever!\",\n",
       " 'Take profit before it turns to Coal',\n",
       " 'Dont splits normally happen in July time frame?',\n",
       " 'I like how it is right now, where the price is very similar to the market cap in billions.',\n",
       " 'I can’t wait for a stock split.',\n",
       " 'That’s not how it works but good luck. Stocks don’t split normally near that close to a previous split. There hasn’t even been a decent correction since the last split. I wouldn’t expect one for years',\n",
       " 'Anyone holding calls for November 26? Are you guys selling it this week due to FOMC or riding it until your expiration date?',\n",
       " 'If it ever splits again there will be some people panic selling. This will be a great opportunity to buy TSLA if the 2nd split happens this year or later',\n",
       " 'What does a split mean? Is it bad for people that have shares?',\n",
       " \"I'm sure they will do it but only because we all know what it will do to the stock.  ;)\",\n",
       " \"Isn't it solely up to Elon?\",\n",
       " \"He said he didn't wanna split. They won't split anytime soon unless tesla magically holds 2k a share value. It'll probably sit between. I'm bullish but what would tesla market cap be at 2000$ a share?\",\n",
       " 'Sorry to those that are about to miss the boat',\n",
       " 'Cathie Wood is a superstar',\n",
       " 'TSLA $2,500+ HODL!',\n",
       " 'These memes get wilder every day',\n",
       " '\"All Hail the Queen!\"',\n",
       " 'Second leg down coming. She better grab a life raft and drop the rod. Chopping wood!!',\n",
       " '**Fell of the chair.. Awesomely put together**',\n",
       " \"I truely think this is probably the last opportunity to buy tesla at a reasonable price.\\nCome 2022 and TESLA is going to fire on all cylinders, model 3 in full speed, cybertruck, 18 wheeler and a possible announcement of commercial electric airplane.\\nTSLA is going to do to cars what Apple did to phones; power of an ecosystem can't be underestimated.\",\n",
       " 'What do you guys think of EV competition from tradition automakers? Can traditional auto makers like GM catch up in terms of EV market share in near future/ ever?',\n",
       " \"\\nRight now, it's actually a great opportunity to buy TSLA at such a huge discount. When it's back over 800, we'll already have locked in a 35% gain! 😎👍\",\n",
       " 'I think I like the stock',\n",
       " 'We need another WSB short squeeze to fry those shorts.',\n",
       " 'TSLA shorts will never learn',\n",
       " \"There are three things that will serve as an outpost for Tesla's stock price... 1: Market strategy (if Tesla still uses FSD to make money from customers) I will choose to sell out Tesla's stock.. 2  : Price strategy (if Tesla can’t offer consumers an irresistible preferential price because it reduces the components by two-thirds of the cost of a gasoline car) I will choose to sell out Tesla’s stock.. 3: Energy strategy: (if  Tesla cannot provide consumers with free charging at super charging stations for 5 years) I will choose to sell out Tesla’s stock\",\n",
       " 'Not selling a single share is like saying I’m never folding Texas hold ‘em maybe you’ll win some but you’d make more money if you folded sometimes and then came back',\n",
       " 'Base in uk, who knows best apps to buy and sell or FOR investors for TSLA.....Thank you guys!',\n",
       " 'It’s going to drop to 400s first. Buy up around there, and continue to buy puts',\n",
       " 'So many bots in here',\n",
       " 'When’s the right time to buy though? Will it drop more before going back up?? What’s peoples expectations',\n",
       " 'yeah it probably bounces a bit on its way to $300 EoY',\n",
       " '[deleted]',\n",
       " 'Hold then.\\nNever sell.',\n",
       " 'I just commented something like this. \\nI’m tapped. Need more money lol. \\nThis dip is so juicy....',\n",
       " 'You have balls of steel my friend! I’m hodling 75 and hoping to buy more next week.',\n",
       " 'This is the way.',\n",
       " 'Keep it up champ..Let that dick swwaaanngg📈',\n",
       " \"Just maybe it's happening now, adjusting value to expected earnings in an ever more competitive market\",\n",
       " 'Get a job, Sir!',\n",
       " 'sorry OP I bought in last week and now it must go down',\n",
       " 'What cost basis though OP?',\n",
       " 'How come we are all out of money?',\n",
       " \"Holing 300 at $870. It fucking hurts and kick myself for throwing that much at ATH's. Thankfully I don't need to liquidate any of it so I can ride it out\",\n",
       " 'I laughed heartily :)\\n\\nI sold some of my shares at loss and bought $590 call options. I hope it is near the bottom. Otherwise, I am screwed too.']"
      ]
     },
     "execution_count": 4,
     "metadata": {},
     "output_type": "execute_result"
    }
   ],
   "source": [
    "top_comments"
   ]
  },
  {
   "cell_type": "markdown",
   "id": "5d83a86f",
   "metadata": {},
   "source": [
    "## Part III:  [HuggingFace](https://huggingface.co/docs/transformers/quicktour)\n",
    "The third part of this exercise is to analyze the sentiment of each comment scraped from `r/TSLA` to using a pre-trained HuggingFace model to make the inference. \n",
    "\n",
    "### Your Task\n",
    "1. Implement the [Sentiment Analysis](https://huggingface.co/docs/transformers/quicktour) Model in the `# YOUR CODE HERE` section. \n",
    "2. (Optional) What is the net sentiment of the entire list of comments?"
   ]
  },
  {
   "cell_type": "code",
   "execution_count": 5,
   "id": "3141ffde",
   "metadata": {},
   "outputs": [
    {
     "name": "stderr",
     "output_type": "stream",
     "text": [
      "No model was supplied, defaulted to distilbert-base-uncased-finetuned-sst-2-english (https://huggingface.co/distilbert-base-uncased-finetuned-sst-2-english)\n"
     ]
    }
   ],
   "source": [
    "from transformers import pipeline\n",
    "\n",
    "sentiment_model = pipeline('text-classification')\n",
    "\n",
    "def sentiment_model_list(sentiment_query_sentence):\n",
    "    classifier = pipeline(\"sentiment-analysis\")\n",
    "    return(classifier(top_comments))"
   ]
  },
  {
   "cell_type": "code",
   "execution_count": 6,
   "id": "2486f05f-3706-426c-b097-1a75e71b2b86",
   "metadata": {},
   "outputs": [],
   "source": [
    "import random\n",
    "def get_random_comment(conversations):\n",
    "    comment = random.choice(conversations)\n",
    "    return comment"
   ]
  },
  {
   "cell_type": "code",
   "execution_count": 7,
   "id": "e0dc649c",
   "metadata": {},
   "outputs": [
    {
     "name": "stdout",
     "output_type": "stream",
     "text": [
      "You sure did. Great heads up. Your awesome!!!\n",
      "Sentiment test: You sure did. Great heads up. Your awesome!!! === [{'label': 'POSITIVE', 'score': 0.9998674392700195}]\n"
     ]
    }
   ],
   "source": [
    "# Run sentiment analysis\n",
    "sentiment_query_sentence = get_random_comment(top_comments) # grabs a random comment from the comment and replies list\n",
    "print(sentiment_query_sentence)\n",
    "sentiment = sentiment_model(sentiment_query_sentence) # \n",
    "print(f\"Sentiment test: {sentiment_query_sentence} === {sentiment}\")"
   ]
  },
  {
   "cell_type": "code",
   "execution_count": 8,
   "id": "7276aab1-bc3a-41d7-a179-a9277aa85ce6",
   "metadata": {},
   "outputs": [
    {
     "name": "stderr",
     "output_type": "stream",
     "text": [
      "No model was supplied, defaulted to distilbert-base-uncased-finetuned-sst-2-english (https://huggingface.co/distilbert-base-uncased-finetuned-sst-2-english)\n"
     ]
    },
    {
     "name": "stdout",
     "output_type": "stream",
     "text": [
      "What does a split mean? Is it bad for people that have shares?\n"
     ]
    }
   ],
   "source": [
    "# Run sentiment analysis\n",
    "sentiment_query_sentence = get_random_comment(top_comments) # grabs a random comment from the comment and replies list\n",
    "print(sentiment_query_sentence)\n",
    "sentiment = sentiment_model_list(sentiment_query_sentence) # \n",
    "#print(f\"Sentiment test: {sentiment_query_sentence} === {sentiment}\")"
   ]
  },
  {
   "cell_type": "code",
   "execution_count": 9,
   "id": "5000c4b2-54c0-4f7d-bd10-33ef811af3e9",
   "metadata": {},
   "outputs": [],
   "source": [
    "sum = 0\n",
    "\n",
    "for i in range(len(sentiment)):\n",
    "    if sentiment[i]['label'] == 'NEGATIVE':\n",
    "        sum -= sentiment[i]['score']\n",
    "    else:\n",
    "        sum += sentiment[i]['score']\n",
    "  \n",
    "        "
   ]
  },
  {
   "cell_type": "markdown",
   "id": "06d5c9c4",
   "metadata": {},
   "source": [
    "## Average Sentiment"
   ]
  },
  {
   "cell_type": "code",
   "execution_count": 10,
   "id": "a7d034ae-e0bc-4af6-a821-27a32698f99e",
   "metadata": {},
   "outputs": [
    {
     "data": {
      "text/plain": [
       "-0.27262688357205617"
      ]
     },
     "execution_count": 10,
     "metadata": {},
     "output_type": "execute_result"
    }
   ],
   "source": [
    "sum / len(sentiment)"
   ]
  },
  {
   "cell_type": "markdown",
   "id": "a00bbd62",
   "metadata": {},
   "source": [
    "## Sum of Sentiment"
   ]
  },
  {
   "cell_type": "code",
   "execution_count": 11,
   "id": "e0790068-fcd9-4fbc-89d4-b053d3e1078d",
   "metadata": {},
   "outputs": [
    {
     "data": {
      "text/plain": [
       "-45.80131644010544"
      ]
     },
     "execution_count": 11,
     "metadata": {},
     "output_type": "execute_result"
    }
   ],
   "source": [
    "sum"
   ]
  },
  {
   "cell_type": "code",
   "execution_count": 12,
   "id": "0f3a40a1-9fb2-4ba0-9f96-8c1416752983",
   "metadata": {},
   "outputs": [
    {
     "data": {
      "text/plain": [
       "[{'label': 'NEGATIVE', 'score': 0.9937398433685303},\n",
       " {'label': 'NEGATIVE', 'score': 0.9993293285369873},\n",
       " {'label': 'NEGATIVE', 'score': 0.9959704875946045},\n",
       " {'label': 'NEGATIVE', 'score': 0.9924914240837097},\n",
       " {'label': 'NEGATIVE', 'score': 0.9972865581512451},\n",
       " {'label': 'POSITIVE', 'score': 0.9799703359603882},\n",
       " {'label': 'NEGATIVE', 'score': 0.9992691874504089},\n",
       " {'label': 'POSITIVE', 'score': 0.68944251537323},\n",
       " {'label': 'POSITIVE', 'score': 0.9486644268035889},\n",
       " {'label': 'POSITIVE', 'score': 0.9979830980300903},\n",
       " {'label': 'POSITIVE', 'score': 0.9963148236274719},\n",
       " {'label': 'NEGATIVE', 'score': 0.9895860552787781},\n",
       " {'label': 'POSITIVE', 'score': 0.5503318905830383},\n",
       " {'label': 'POSITIVE', 'score': 0.9739510416984558},\n",
       " {'label': 'NEGATIVE', 'score': 0.9952527284622192},\n",
       " {'label': 'NEGATIVE', 'score': 0.9689354300498962},\n",
       " {'label': 'POSITIVE', 'score': 0.9997166991233826},\n",
       " {'label': 'NEGATIVE', 'score': 0.9991776347160339},\n",
       " {'label': 'NEGATIVE', 'score': 0.9665992259979248},\n",
       " {'label': 'POSITIVE', 'score': 0.9990358352661133},\n",
       " {'label': 'POSITIVE', 'score': 0.9997873902320862},\n",
       " {'label': 'NEGATIVE', 'score': 0.999384880065918},\n",
       " {'label': 'POSITIVE', 'score': 0.9977002739906311},\n",
       " {'label': 'NEGATIVE', 'score': 0.9972686767578125},\n",
       " {'label': 'POSITIVE', 'score': 0.9960852861404419},\n",
       " {'label': 'POSITIVE', 'score': 0.9734266400337219},\n",
       " {'label': 'POSITIVE', 'score': 0.9987488985061646},\n",
       " {'label': 'NEGATIVE', 'score': 0.9955430626869202},\n",
       " {'label': 'NEGATIVE', 'score': 0.9968542456626892},\n",
       " {'label': 'POSITIVE', 'score': 0.9982612729072571},\n",
       " {'label': 'NEGATIVE', 'score': 0.970773458480835},\n",
       " {'label': 'POSITIVE', 'score': 0.9792408347129822},\n",
       " {'label': 'POSITIVE', 'score': 0.9998674392700195},\n",
       " {'label': 'NEGATIVE', 'score': 0.9526825547218323},\n",
       " {'label': 'NEGATIVE', 'score': 0.9832794666290283},\n",
       " {'label': 'NEGATIVE', 'score': 0.9467525482177734},\n",
       " {'label': 'POSITIVE', 'score': 0.9915407299995422},\n",
       " {'label': 'NEGATIVE', 'score': 0.999642014503479},\n",
       " {'label': 'NEGATIVE', 'score': 0.9934806823730469},\n",
       " {'label': 'NEGATIVE', 'score': 0.9953721165657043},\n",
       " {'label': 'POSITIVE', 'score': 0.8251243233680725},\n",
       " {'label': 'POSITIVE', 'score': 0.9992665648460388},\n",
       " {'label': 'NEGATIVE', 'score': 0.9818629622459412},\n",
       " {'label': 'NEGATIVE', 'score': 0.9989867806434631},\n",
       " {'label': 'POSITIVE', 'score': 0.9371762275695801},\n",
       " {'label': 'NEGATIVE', 'score': 0.9915509223937988},\n",
       " {'label': 'NEGATIVE', 'score': 0.997878909111023},\n",
       " {'label': 'NEGATIVE', 'score': 0.9981821775436401},\n",
       " {'label': 'POSITIVE', 'score': 0.9996260404586792},\n",
       " {'label': 'POSITIVE', 'score': 0.9996402263641357},\n",
       " {'label': 'NEGATIVE', 'score': 0.9938929080963135},\n",
       " {'label': 'NEGATIVE', 'score': 0.9976969361305237},\n",
       " {'label': 'NEGATIVE', 'score': 0.5208778977394104},\n",
       " {'label': 'NEGATIVE', 'score': 0.9814748764038086},\n",
       " {'label': 'POSITIVE', 'score': 0.8952058553695679},\n",
       " {'label': 'NEGATIVE', 'score': 0.9934806823730469},\n",
       " {'label': 'NEGATIVE', 'score': 0.9968408346176147},\n",
       " {'label': 'NEGATIVE', 'score': 0.9975888729095459},\n",
       " {'label': 'NEGATIVE', 'score': 0.9934806823730469},\n",
       " {'label': 'NEGATIVE', 'score': 0.9976882934570312},\n",
       " {'label': 'POSITIVE', 'score': 0.9884964227676392},\n",
       " {'label': 'POSITIVE', 'score': 0.983048677444458},\n",
       " {'label': 'NEGATIVE', 'score': 0.9971621036529541},\n",
       " {'label': 'NEGATIVE', 'score': 0.9924721717834473},\n",
       " {'label': 'POSITIVE', 'score': 0.9960386753082275},\n",
       " {'label': 'NEGATIVE', 'score': 0.9993557333946228},\n",
       " {'label': 'NEGATIVE', 'score': 0.9983053207397461},\n",
       " {'label': 'POSITIVE', 'score': 0.9991744160652161},\n",
       " {'label': 'NEGATIVE', 'score': 0.9979255199432373},\n",
       " {'label': 'POSITIVE', 'score': 0.9960920214653015},\n",
       " {'label': 'NEGATIVE', 'score': 0.960771918296814},\n",
       " {'label': 'POSITIVE', 'score': 0.8103349208831787},\n",
       " {'label': 'POSITIVE', 'score': 0.9601868391036987},\n",
       " {'label': 'NEGATIVE', 'score': 0.9963538646697998},\n",
       " {'label': 'NEGATIVE', 'score': 0.9997742772102356},\n",
       " {'label': 'POSITIVE', 'score': 0.8190571665763855},\n",
       " {'label': 'NEGATIVE', 'score': 0.9991133809089661},\n",
       " {'label': 'POSITIVE', 'score': 0.9923726320266724},\n",
       " {'label': 'POSITIVE', 'score': 0.9992936849594116},\n",
       " {'label': 'NEGATIVE', 'score': 0.9774370193481445},\n",
       " {'label': 'NEGATIVE', 'score': 0.9996756315231323},\n",
       " {'label': 'NEGATIVE', 'score': 0.9995410442352295},\n",
       " {'label': 'NEGATIVE', 'score': 0.9984436631202698},\n",
       " {'label': 'NEGATIVE', 'score': 0.8333268165588379},\n",
       " {'label': 'NEGATIVE', 'score': 0.8111277222633362},\n",
       " {'label': 'NEGATIVE', 'score': 0.985287070274353},\n",
       " {'label': 'NEGATIVE', 'score': 0.999238133430481},\n",
       " {'label': 'POSITIVE', 'score': 0.9710162281990051},\n",
       " {'label': 'NEGATIVE', 'score': 0.849596381187439},\n",
       " {'label': 'NEGATIVE', 'score': 0.9995469450950623},\n",
       " {'label': 'NEGATIVE', 'score': 0.9887545108795166},\n",
       " {'label': 'NEGATIVE', 'score': 0.9890369772911072},\n",
       " {'label': 'NEGATIVE', 'score': 0.9934098124504089},\n",
       " {'label': 'NEGATIVE', 'score': 0.8938624858856201},\n",
       " {'label': 'NEGATIVE', 'score': 0.9915048480033875},\n",
       " {'label': 'NEGATIVE', 'score': 0.964660108089447},\n",
       " {'label': 'POSITIVE', 'score': 0.9920274615287781},\n",
       " {'label': 'POSITIVE', 'score': 0.9140147566795349},\n",
       " {'label': 'NEGATIVE', 'score': 0.9987186193466187},\n",
       " {'label': 'NEGATIVE', 'score': 0.9594217538833618},\n",
       " {'label': 'NEGATIVE', 'score': 0.9987315535545349},\n",
       " {'label': 'NEGATIVE', 'score': 0.78450608253479},\n",
       " {'label': 'NEGATIVE', 'score': 0.9890660047531128},\n",
       " {'label': 'NEGATIVE', 'score': 0.9983571171760559},\n",
       " {'label': 'POSITIVE', 'score': 0.9886464476585388},\n",
       " {'label': 'NEGATIVE', 'score': 0.9992691874504089},\n",
       " {'label': 'POSITIVE', 'score': 0.9590713977813721},\n",
       " {'label': 'NEGATIVE', 'score': 0.9989833235740662},\n",
       " {'label': 'NEGATIVE', 'score': 0.9996469020843506},\n",
       " {'label': 'POSITIVE', 'score': 0.9865148663520813},\n",
       " {'label': 'NEGATIVE', 'score': 0.9909082651138306},\n",
       " {'label': 'NEGATIVE', 'score': 0.9839507341384888},\n",
       " {'label': 'NEGATIVE', 'score': 0.9982249140739441},\n",
       " {'label': 'NEGATIVE', 'score': 0.9976972937583923},\n",
       " {'label': 'NEGATIVE', 'score': 0.9829100966453552},\n",
       " {'label': 'NEGATIVE', 'score': 0.9732576608657837},\n",
       " {'label': 'NEGATIVE', 'score': 0.9655489325523376},\n",
       " {'label': 'POSITIVE', 'score': 0.9671658873558044},\n",
       " {'label': 'NEGATIVE', 'score': 0.9995706677436829},\n",
       " {'label': 'NEGATIVE', 'score': 0.9691011905670166},\n",
       " {'label': 'NEGATIVE', 'score': 0.9923229217529297},\n",
       " {'label': 'POSITIVE', 'score': 0.9278429746627808},\n",
       " {'label': 'POSITIVE', 'score': 0.9829425811767578},\n",
       " {'label': 'NEGATIVE', 'score': 0.9505859017372131},\n",
       " {'label': 'NEGATIVE', 'score': 0.9957142472267151},\n",
       " {'label': 'NEGATIVE', 'score': 0.9858171343803406},\n",
       " {'label': 'POSITIVE', 'score': 0.9907417297363281},\n",
       " {'label': 'NEGATIVE', 'score': 0.9989251494407654},\n",
       " {'label': 'POSITIVE', 'score': 0.9298892617225647},\n",
       " {'label': 'NEGATIVE', 'score': 0.9991023540496826},\n",
       " {'label': 'POSITIVE', 'score': 0.589367687702179},\n",
       " {'label': 'NEGATIVE', 'score': 0.999584972858429},\n",
       " {'label': 'NEGATIVE', 'score': 0.9939708709716797},\n",
       " {'label': 'POSITIVE', 'score': 0.8816498517990112},\n",
       " {'label': 'NEGATIVE', 'score': 0.9979879856109619},\n",
       " {'label': 'NEGATIVE', 'score': 0.9988390803337097},\n",
       " {'label': 'POSITIVE', 'score': 0.9996720552444458},\n",
       " {'label': 'NEGATIVE', 'score': 0.9951477646827698},\n",
       " {'label': 'POSITIVE', 'score': 0.9651341438293457},\n",
       " {'label': 'POSITIVE', 'score': 0.9997335076332092},\n",
       " {'label': 'NEGATIVE', 'score': 0.996698260307312},\n",
       " {'label': 'POSITIVE', 'score': 0.9991292357444763},\n",
       " {'label': 'NEGATIVE', 'score': 0.9973475933074951},\n",
       " {'label': 'NEGATIVE', 'score': 0.9915435314178467},\n",
       " {'label': 'POSITIVE', 'score': 0.9793373346328735},\n",
       " {'label': 'POSITIVE', 'score': 0.9980130195617676},\n",
       " {'label': 'NEGATIVE', 'score': 0.9974296689033508},\n",
       " {'label': 'NEGATIVE', 'score': 0.5937864184379578},\n",
       " {'label': 'NEGATIVE', 'score': 0.9983880519866943},\n",
       " {'label': 'NEGATIVE', 'score': 0.9912292957305908},\n",
       " {'label': 'POSITIVE', 'score': 0.9997251629829407},\n",
       " {'label': 'POSITIVE', 'score': 0.9894692897796631},\n",
       " {'label': 'NEGATIVE', 'score': 0.6929786801338196},\n",
       " {'label': 'NEGATIVE', 'score': 0.9983528852462769},\n",
       " {'label': 'POSITIVE', 'score': 0.9617775082588196},\n",
       " {'label': 'NEGATIVE', 'score': 0.9992691874504089},\n",
       " {'label': 'NEGATIVE', 'score': 0.9717538952827454},\n",
       " {'label': 'POSITIVE', 'score': 0.9954257607460022},\n",
       " {'label': 'POSITIVE', 'score': 0.9880303740501404},\n",
       " {'label': 'POSITIVE', 'score': 0.9995372295379639},\n",
       " {'label': 'POSITIVE', 'score': 0.9864137172698975},\n",
       " {'label': 'NEGATIVE', 'score': 0.913336455821991},\n",
       " {'label': 'POSITIVE', 'score': 0.9967671632766724},\n",
       " {'label': 'NEGATIVE', 'score': 0.9997847676277161},\n",
       " {'label': 'NEGATIVE', 'score': 0.9971745014190674},\n",
       " {'label': 'NEGATIVE', 'score': 0.9994730353355408},\n",
       " {'label': 'NEGATIVE', 'score': 0.9926707744598389},\n",
       " {'label': 'NEGATIVE', 'score': 0.9976527094841003}]"
      ]
     },
     "execution_count": 12,
     "metadata": {},
     "output_type": "execute_result"
    }
   ],
   "source": [
    "sentiment"
   ]
  }
 ],
 "metadata": {
  "kernelspec": {
   "display_name": "Python 3",
   "language": "python",
   "name": "python3"
  },
  "language_info": {
   "codemirror_mode": {
    "name": "ipython",
    "version": 3
   },
   "file_extension": ".py",
   "mimetype": "text/x-python",
   "name": "python",
   "nbconvert_exporter": "python",
   "pygments_lexer": "ipython3",
   "version": "3.8.9"
  }
 },
 "nbformat": 4,
 "nbformat_minor": 5
}
