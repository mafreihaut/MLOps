{
 "cells": [
  {
   "cell_type": "markdown",
   "id": "d4c26611",
   "metadata": {},
   "source": [
    "<p align = \"center\" draggable=”false” ><img src=\"https://user-images.githubusercontent.com/37101144/161836199-fdb0219d-0361-4988-bf26-48b0fad160a3.png\" \n",
    "     width=\"200px\"\n",
    "     height=\"auto\"/>\n",
    "</p>\n",
    "\n",
    "# Reddit and HuggingFace Starter Kit"
   ]
  },
  {
   "cell_type": "markdown",
   "id": "75492137",
   "metadata": {},
   "source": [
    "## Part I: [Reddit API](https://www.reddit.com/dev/api/)\n",
    "The first part of this excercise is to figure out how to instantiate a Reddit API object using the Python Reddit API Wrapper [PRAW](https://praw.readthedocs.io/en/stable/).  PRAW is a Python library that provides a simple interfaceto interact with the Reddit API.\n",
    "\n",
    "### Your Task\n",
    "You will first need to instantiate a [Reddit instance](https://praw.readthedocs.io/en/stable/code_overview/reddit_instance.html).\n",
    "Hint: you only need to use `client_id`, `client_secret`, and `user_agent`\n",
    "\n",
    "#### Make sure everyone in the group does this part! \n",
    "\n",
    "Follow the guide below on how to get your `client_id` and `client_secret`.\n",
    "\n",
    "#### Follow these steps:\n",
    "1. Pull the `FourthBrain/ML03` repo locally so you can start development.\n",
    "2. Open `reddit_and_huggingface.ipynb` and install the necessary packages for this lesson by running:\n",
    "\n",
    "    ```\n",
    "    cd code_student/Week_2\n",
    "    conda activate {your_virtual_environment_name}\n",
    "    pip install transformers praw torch torchvision torchaudio\n",
    "    ```\n",
    "    \n",
    "3. Obtain your `client_id` and `client_secret`\n",
    "\n",
    "* Make a Reddit account\n",
    "* Follow the steps in this screenshot which are the first steps from this [guide](https://towardsdatascience.com/how-to-use-the-reddit-api-in-python-5e05ddfd1e5c).\n",
    "\n",
    "![instructions to set up reddit api](../../images/reddit_get_access.JPG)\n",
    "\n",
    "* Create a `secrets.py` file and include the following:\n",
    "\n",
    "    ```\n",
    "    REDDIT_API_CLIENT_ID = \"\"\n",
    "    REDDIT_API_CLIENT_SECRET = \"\"\n",
    "    REDDIT_API_USER_AGENT = {can_be_any_string...for ex: \"teslabot\"}\n",
    "    ```\n",
    "    Get it?  [Teslabot :)](https://www.tesla.com/AIhttps://www.tesla.com/AI)\n",
    "    \n",
    "\n",
    "* Put `secrets.py` in `Week_2` so you can easily import it\n",
    "\n",
    "4. Complete the code in the `# YOUR CODE HERE` space below that creates a reddit instance object that allows us to interact with the Reddit API.  Note that the `subreddit` object for the 'r/TSLA' subreddit has already been created for you."
   ]
  },
  {
   "cell_type": "code",
   "execution_count": 4,
   "id": "96e28955-3618-4f89-9572-03493045b233",
   "metadata": {},
   "outputs": [
    {
     "name": "stdout",
     "output_type": "stream",
     "text": [
      "Collecting transformers\n",
      "  Downloading transformers-4.18.0-py3-none-any.whl (4.0 MB)\n",
      "\u001b[K     |████████████████████████████████| 4.0 MB 4.1 MB/s eta 0:00:01\n",
      "\u001b[?25hRequirement already satisfied: praw in /Users/matthewfreihaut/opt/anaconda3/lib/python3.8/site-packages (7.5.0)\n",
      "Collecting torch\n",
      "  Downloading torch-1.11.0-cp38-none-macosx_10_9_x86_64.whl (129.9 MB)\n",
      "\u001b[K     |████████████████████████████████| 129.9 MB 91 kB/s  eta 0:00:01\n",
      "\u001b[?25hCollecting torchvision\n",
      "  Downloading torchvision-0.12.0-cp38-cp38-macosx_10_9_x86_64.whl (1.3 MB)\n",
      "\u001b[K     |████████████████████████████████| 1.3 MB 4.2 MB/s eta 0:00:01\n",
      "\u001b[?25hCollecting torchaudio\n",
      "  Downloading torchaudio-0.11.0-cp38-cp38-macosx_10_15_x86_64.whl (2.4 MB)\n",
      "\u001b[K     |████████████████████████████████| 2.4 MB 4.1 MB/s eta 0:00:01\n",
      "\u001b[?25hRequirement already satisfied: websocket-client>=0.54.0 in /Users/matthewfreihaut/opt/anaconda3/lib/python3.8/site-packages (from praw) (1.3.2)\n",
      "Requirement already satisfied: update-checker>=0.18 in /Users/matthewfreihaut/opt/anaconda3/lib/python3.8/site-packages (from praw) (0.18.0)\n",
      "Requirement already satisfied: prawcore<3,>=2.1 in /Users/matthewfreihaut/opt/anaconda3/lib/python3.8/site-packages (from praw) (2.3.0)\n",
      "Requirement already satisfied: requests<3.0,>=2.6.0 in /Users/matthewfreihaut/opt/anaconda3/lib/python3.8/site-packages (from prawcore<3,>=2.1->praw) (2.25.1)\n",
      "Requirement already satisfied: certifi>=2017.4.17 in /Users/matthewfreihaut/opt/anaconda3/lib/python3.8/site-packages (from requests<3.0,>=2.6.0->prawcore<3,>=2.1->praw) (2020.12.5)\n",
      "Requirement already satisfied: urllib3<1.27,>=1.21.1 in /Users/matthewfreihaut/opt/anaconda3/lib/python3.8/site-packages (from requests<3.0,>=2.6.0->prawcore<3,>=2.1->praw) (1.26.4)\n",
      "Requirement already satisfied: idna<3,>=2.5 in /Users/matthewfreihaut/opt/anaconda3/lib/python3.8/site-packages (from requests<3.0,>=2.6.0->prawcore<3,>=2.1->praw) (2.10)\n",
      "Requirement already satisfied: chardet<5,>=3.0.2 in /Users/matthewfreihaut/opt/anaconda3/lib/python3.8/site-packages (from requests<3.0,>=2.6.0->prawcore<3,>=2.1->praw) (4.0.0)\n",
      "Requirement already satisfied: typing-extensions in /Users/matthewfreihaut/opt/anaconda3/lib/python3.8/site-packages (from torch) (4.1.1)\n",
      "Requirement already satisfied: pillow!=8.3.*,>=5.3.0 in /Users/matthewfreihaut/opt/anaconda3/lib/python3.8/site-packages (from torchvision) (8.2.0)\n",
      "Requirement already satisfied: numpy in /Users/matthewfreihaut/opt/anaconda3/lib/python3.8/site-packages (from torchvision) (1.22.1)\n",
      "Requirement already satisfied: pyyaml>=5.1 in /Users/matthewfreihaut/opt/anaconda3/lib/python3.8/site-packages (from transformers) (5.4.1)\n",
      "Collecting huggingface-hub<1.0,>=0.1.0\n",
      "  Downloading huggingface_hub-0.5.1-py3-none-any.whl (77 kB)\n",
      "\u001b[K     |████████████████████████████████| 77 kB 4.6 MB/s eta 0:00:011\n",
      "\u001b[?25hRequirement already satisfied: regex!=2019.12.17 in /Users/matthewfreihaut/opt/anaconda3/lib/python3.8/site-packages (from transformers) (2021.4.4)\n",
      "Collecting sacremoses\n",
      "  Downloading sacremoses-0.0.49-py3-none-any.whl (895 kB)\n",
      "\u001b[K     |████████████████████████████████| 895 kB 6.1 MB/s eta 0:00:01\n",
      "\u001b[?25hCollecting tokenizers!=0.11.3,<0.13,>=0.11.1\n",
      "  Downloading tokenizers-0.11.6-cp38-cp38-macosx_10_11_x86_64.whl (3.6 MB)\n",
      "\u001b[K     |████████████████████████████████| 3.6 MB 4.1 MB/s eta 0:00:01\n",
      "\u001b[?25hRequirement already satisfied: filelock in /Users/matthewfreihaut/opt/anaconda3/lib/python3.8/site-packages (from transformers) (3.0.12)\n",
      "Requirement already satisfied: tqdm>=4.27 in /Users/matthewfreihaut/opt/anaconda3/lib/python3.8/site-packages (from transformers) (4.59.0)\n",
      "Requirement already satisfied: packaging>=20.0 in /Users/matthewfreihaut/opt/anaconda3/lib/python3.8/site-packages (from transformers) (20.9)\n",
      "Requirement already satisfied: pyparsing>=2.0.2 in /Users/matthewfreihaut/opt/anaconda3/lib/python3.8/site-packages (from packaging>=20.0->transformers) (2.4.7)\n",
      "Requirement already satisfied: joblib in /Users/matthewfreihaut/opt/anaconda3/lib/python3.8/site-packages (from sacremoses->transformers) (1.0.1)\n",
      "Requirement already satisfied: six in /Users/matthewfreihaut/opt/anaconda3/lib/python3.8/site-packages (from sacremoses->transformers) (1.15.0)\n",
      "Requirement already satisfied: click in /Users/matthewfreihaut/opt/anaconda3/lib/python3.8/site-packages (from sacremoses->transformers) (7.1.2)\n",
      "Installing collected packages: torch, tokenizers, sacremoses, huggingface-hub, transformers, torchvision, torchaudio\n",
      "Successfully installed huggingface-hub-0.5.1 sacremoses-0.0.49 tokenizers-0.11.6 torch-1.11.0 torchaudio-0.11.0 torchvision-0.12.0 transformers-4.18.0\n"
     ]
    }
   ],
   "source": [
    "\n",
    "!pip install transformers praw torch torchvision torchaudio -q\n"
   ]
  },
  {
   "cell_type": "code",
   "execution_count": 33,
   "id": "d170503b",
   "metadata": {},
   "outputs": [],
   "source": [
    "import praw\n",
    "from transformers import pipeline\n",
    "import secrets\n",
    "\n",
    "reddit = praw.Reddit(\n",
    "        \n",
    "    client_id=secrets.REDDIT_API_CLIENT_ID,\n",
    "    client_secret=secrets.REDDIT_API_CLIENT_SECRET,\n",
    "    user_agent=secrets.REDDIT_API_USER_AGENT\n",
    ")\n",
    "\n",
    "subreddit = reddit.subreddit('TSLA')"
   ]
  },
  {
   "cell_type": "code",
   "execution_count": 34,
   "id": "2b9ef45f-7410-4050-a969-4110056ea6fe",
   "metadata": {},
   "outputs": [
    {
     "data": {
      "text/plain": [
       "Subreddit(display_name='TSLA')"
      ]
     },
     "execution_count": 34,
     "metadata": {},
     "output_type": "execute_result"
    }
   ],
   "source": [
    "subreddit"
   ]
  },
  {
   "cell_type": "markdown",
   "id": "d2393834",
   "metadata": {},
   "source": [
    "## Part II:  [r/TSLA Subreddit](https://www.reddit.com/r/TSLA/)\n",
    "The second part of this exercise is to figure out how to the following code is parsing comments through use of the r/TSLA `subreddit` instance object.\n",
    "\n",
    "### Your Task\n",
    "1. Work with your group to comment each line of the following code so that you describe what each piece is doing.\n",
    "2. Create one comment at the top of the code that describes what the larger for loop is iterating over.  \n",
    "3. (Optional) How many comments will I get from this?\n",
    "\n",
    "A few resources that might help!\n",
    "* How do I find the top 10 posts of all time from your favorite subreddit(s)? (hint: look at [\"Obtain Submission Instances from a Subreddit\"](https://praw.readthedocs.io/en/stable/getting_started/quick_start.html))\n",
    "* How do I parse comments from the post? (hint: look at [\"Obtain Submission Instances from a Subreddit\"](https://praw.readthedocs.io/en/stable/getting_started/quick_start.html))"
   ]
  },
  {
   "cell_type": "code",
   "execution_count": 35,
   "id": "e761f263",
   "metadata": {},
   "outputs": [],
   "source": [
    "# imports package\n",
    "from praw.models import MoreComments\n",
    "\n",
    "#creates an empty list to store data\n",
    "top_comments = []\n",
    "\n",
    "\n",
    "for submission in subreddit.top(limit=10):\n",
    "    for top_level_comment in submission.comments:\n",
    "        if isinstance(top_level_comment, MoreComments):\n",
    "                    continue\n",
    "        top_comments.append(top_level_comment.body)"
   ]
  },
  {
   "cell_type": "code",
   "execution_count": 27,
   "id": "ae8461d0-425d-4693-9e25-3a9bea9300b3",
   "metadata": {},
   "outputs": [
    {
     "data": {
      "text/plain": [
       "<praw.models.listing.generator.ListingGenerator at 0x7fe602e27250>"
      ]
     },
     "execution_count": 27,
     "metadata": {},
     "output_type": "execute_result"
    }
   ],
   "source": []
  },
  {
   "cell_type": "markdown",
   "id": "5d83a86f",
   "metadata": {},
   "source": [
    "## Part III:  [HuggingFace](https://huggingface.co/docs/transformers/quicktour)\n",
    "The third part of this exercise is to analyze the sentiment of each comment scraped from `r/TSLA` to using a pre-trained HuggingFace model to make the inference. \n",
    "\n",
    "### Your Task\n",
    "1. Implement the [Sentiment Analysis](https://huggingface.co/docs/transformers/quicktour) Model in the `# YOUR CODE HERE` section. \n",
    "2. (Optional) What is the net sentiment of the entire list of comments?"
   ]
  },
  {
   "cell_type": "code",
   "execution_count": 64,
   "id": "3141ffde",
   "metadata": {},
   "outputs": [
    {
     "name": "stderr",
     "output_type": "stream",
     "text": [
      "No model was supplied, defaulted to distilbert-base-uncased-finetuned-sst-2-english (https://huggingface.co/distilbert-base-uncased-finetuned-sst-2-english)\n"
     ]
    }
   ],
   "source": [
    "from transformers import pipeline\n",
    "\n",
    "sentiment_model = pipeline('text-classification')\n",
    "\n",
    "def sentiment_model_list(sentiment_query_sentence):\n",
    "    classifier = pipeline(\"sentiment-analysis\")\n",
    "    return(classifier(top_comments))"
   ]
  },
  {
   "cell_type": "code",
   "execution_count": 65,
   "id": "2486f05f-3706-426c-b097-1a75e71b2b86",
   "metadata": {},
   "outputs": [],
   "source": [
    "import random\n",
    "def get_random_comment(conversations):\n",
    "    comment = random.choice(conversations)\n",
    "    return comment"
   ]
  },
  {
   "cell_type": "code",
   "execution_count": 66,
   "id": "e0dc649c",
   "metadata": {},
   "outputs": [
    {
     "name": "stdout",
     "output_type": "stream",
     "text": [
      "didn't sell shares today\n",
      "\n",
      "auto executed 2 trailing stop loss options with 87% profit. fuck yeah!\n",
      "Sentiment test: didn't sell shares today\n",
      "\n",
      "auto executed 2 trailing stop loss options with 87% profit. fuck yeah! === [{'label': 'NEGATIVE', 'score': 0.8111277222633362}]\n"
     ]
    }
   ],
   "source": [
    "# Run sentiment analysis\n",
    "sentiment_query_sentence = get_random_comment(top_comments) # grabs a random comment from the comment and replies list\n",
    "print(sentiment_query_sentence)\n",
    "sentiment = sentiment_model(sentiment_query_sentence) # \n",
    "print(f\"Sentiment test: {sentiment_query_sentence} === {sentiment}\")"
   ]
  },
  {
   "cell_type": "code",
   "execution_count": 75,
   "id": "7276aab1-bc3a-41d7-a179-a9277aa85ce6",
   "metadata": {},
   "outputs": [
    {
     "name": "stderr",
     "output_type": "stream",
     "text": [
      "No model was supplied, defaulted to distilbert-base-uncased-finetuned-sst-2-english (https://huggingface.co/distilbert-base-uncased-finetuned-sst-2-english)\n"
     ]
    },
    {
     "name": "stdout",
     "output_type": "stream",
     "text": [
      "Holing 300 at $870. It fucking hurts and kick myself for throwing that much at ATH's. Thankfully I don't need to liquidate any of it so I can ride it out\n"
     ]
    }
   ],
   "source": [
    "# Run sentiment analysis\n",
    "sentiment_query_sentence = get_random_comment(top_comments) # grabs a random comment from the comment and replies list\n",
    "print(sentiment_query_sentence)\n",
    "sentiment = sentiment_model_list(sentiment_query_sentence) # \n",
    "#print(f\"Sentiment test: {sentiment_query_sentence} === {sentiment}\")"
   ]
  },
  {
   "cell_type": "code",
   "execution_count": 76,
   "id": "5000c4b2-54c0-4f7d-bd10-33ef811af3e9",
   "metadata": {},
   "outputs": [],
   "source": [
    "sum = 0\n",
    "\n",
    "for i in range(len(sentiment)):\n",
    "    if sentiment[i]['label'] == 'NEGATIVE':\n",
    "        sum -= sentiment[i]['score']\n",
    "    else:\n",
    "        sum += sentiment[i]['score']\n",
    "  \n",
    "        "
   ]
  },
  {
   "cell_type": "code",
   "execution_count": 77,
   "id": "a7d034ae-e0bc-4af6-a821-27a32698f99e",
   "metadata": {},
   "outputs": [
    {
     "data": {
      "text/plain": [
       "-0.2689069099055079"
      ]
     },
     "execution_count": 77,
     "metadata": {},
     "output_type": "execute_result"
    }
   ],
   "source": [
    "sum / len(sentiment)"
   ]
  },
  {
   "cell_type": "code",
   "execution_count": 78,
   "id": "e0790068-fcd9-4fbc-89d4-b053d3e1078d",
   "metadata": {},
   "outputs": [
    {
     "data": {
      "text/plain": [
       "-44.90745395421982"
      ]
     },
     "execution_count": 78,
     "metadata": {},
     "output_type": "execute_result"
    }
   ],
   "source": [
    "sum"
   ]
  },
  {
   "cell_type": "code",
   "execution_count": 79,
   "id": "0f3a40a1-9fb2-4ba0-9f96-8c1416752983",
   "metadata": {},
   "outputs": [
    {
     "data": {
      "text/plain": [
       "[{'label': 'NEGATIVE', 'score': 0.9937398433685303},\n",
       " {'label': 'NEGATIVE', 'score': 0.9993293285369873},\n",
       " {'label': 'NEGATIVE', 'score': 0.9959704875946045},\n",
       " {'label': 'NEGATIVE', 'score': 0.9924914240837097},\n",
       " {'label': 'NEGATIVE', 'score': 0.9972865581512451},\n",
       " {'label': 'POSITIVE', 'score': 0.9799703359603882},\n",
       " {'label': 'NEGATIVE', 'score': 0.9992691874504089},\n",
       " {'label': 'POSITIVE', 'score': 0.68944251537323},\n",
       " {'label': 'POSITIVE', 'score': 0.9486644268035889},\n",
       " {'label': 'POSITIVE', 'score': 0.9979830980300903},\n",
       " {'label': 'POSITIVE', 'score': 0.9963148236274719},\n",
       " {'label': 'NEGATIVE', 'score': 0.9895860552787781},\n",
       " {'label': 'POSITIVE', 'score': 0.5503318905830383},\n",
       " {'label': 'POSITIVE', 'score': 0.9739510416984558},\n",
       " {'label': 'NEGATIVE', 'score': 0.9952527284622192},\n",
       " {'label': 'NEGATIVE', 'score': 0.9689354300498962},\n",
       " {'label': 'POSITIVE', 'score': 0.9997166991233826},\n",
       " {'label': 'NEGATIVE', 'score': 0.9991776347160339},\n",
       " {'label': 'NEGATIVE', 'score': 0.9665992259979248},\n",
       " {'label': 'POSITIVE', 'score': 0.9990358352661133},\n",
       " {'label': 'POSITIVE', 'score': 0.9997873902320862},\n",
       " {'label': 'NEGATIVE', 'score': 0.999384880065918},\n",
       " {'label': 'POSITIVE', 'score': 0.9977002739906311},\n",
       " {'label': 'NEGATIVE', 'score': 0.9972686767578125},\n",
       " {'label': 'POSITIVE', 'score': 0.9960852861404419},\n",
       " {'label': 'POSITIVE', 'score': 0.9734266400337219},\n",
       " {'label': 'POSITIVE', 'score': 0.9987488985061646},\n",
       " {'label': 'NEGATIVE', 'score': 0.9955430626869202},\n",
       " {'label': 'NEGATIVE', 'score': 0.9968542456626892},\n",
       " {'label': 'POSITIVE', 'score': 0.9982612729072571},\n",
       " {'label': 'NEGATIVE', 'score': 0.970773458480835},\n",
       " {'label': 'POSITIVE', 'score': 0.9792408347129822},\n",
       " {'label': 'POSITIVE', 'score': 0.9998674392700195},\n",
       " {'label': 'NEGATIVE', 'score': 0.9526825547218323},\n",
       " {'label': 'NEGATIVE', 'score': 0.9832794666290283},\n",
       " {'label': 'NEGATIVE', 'score': 0.9467525482177734},\n",
       " {'label': 'POSITIVE', 'score': 0.9915407299995422},\n",
       " {'label': 'NEGATIVE', 'score': 0.999642014503479},\n",
       " {'label': 'NEGATIVE', 'score': 0.9934806823730469},\n",
       " {'label': 'NEGATIVE', 'score': 0.9953721165657043},\n",
       " {'label': 'POSITIVE', 'score': 0.8251243233680725},\n",
       " {'label': 'POSITIVE', 'score': 0.9992665648460388},\n",
       " {'label': 'NEGATIVE', 'score': 0.9818629622459412},\n",
       " {'label': 'NEGATIVE', 'score': 0.9989867806434631},\n",
       " {'label': 'POSITIVE', 'score': 0.9371762275695801},\n",
       " {'label': 'NEGATIVE', 'score': 0.9915509223937988},\n",
       " {'label': 'NEGATIVE', 'score': 0.997878909111023},\n",
       " {'label': 'NEGATIVE', 'score': 0.9981821775436401},\n",
       " {'label': 'POSITIVE', 'score': 0.9996260404586792},\n",
       " {'label': 'POSITIVE', 'score': 0.9996402263641357},\n",
       " {'label': 'NEGATIVE', 'score': 0.9938929080963135},\n",
       " {'label': 'NEGATIVE', 'score': 0.9976969361305237},\n",
       " {'label': 'NEGATIVE', 'score': 0.5208778977394104},\n",
       " {'label': 'NEGATIVE', 'score': 0.9814748764038086},\n",
       " {'label': 'POSITIVE', 'score': 0.8952058553695679},\n",
       " {'label': 'NEGATIVE', 'score': 0.9934806823730469},\n",
       " {'label': 'NEGATIVE', 'score': 0.9968408346176147},\n",
       " {'label': 'NEGATIVE', 'score': 0.9975888729095459},\n",
       " {'label': 'NEGATIVE', 'score': 0.9934806823730469},\n",
       " {'label': 'NEGATIVE', 'score': 0.9976882934570312},\n",
       " {'label': 'POSITIVE', 'score': 0.9884964227676392},\n",
       " {'label': 'POSITIVE', 'score': 0.983048677444458},\n",
       " {'label': 'NEGATIVE', 'score': 0.9971621036529541},\n",
       " {'label': 'NEGATIVE', 'score': 0.9924721717834473},\n",
       " {'label': 'POSITIVE', 'score': 0.9960386753082275},\n",
       " {'label': 'NEGATIVE', 'score': 0.9993557333946228},\n",
       " {'label': 'NEGATIVE', 'score': 0.9983053207397461},\n",
       " {'label': 'POSITIVE', 'score': 0.9991744160652161},\n",
       " {'label': 'NEGATIVE', 'score': 0.9979255199432373},\n",
       " {'label': 'POSITIVE', 'score': 0.9960920214653015},\n",
       " {'label': 'NEGATIVE', 'score': 0.960771918296814},\n",
       " {'label': 'POSITIVE', 'score': 0.8103349208831787},\n",
       " {'label': 'POSITIVE', 'score': 0.9601868391036987},\n",
       " {'label': 'NEGATIVE', 'score': 0.9963538646697998},\n",
       " {'label': 'NEGATIVE', 'score': 0.9997742772102356},\n",
       " {'label': 'POSITIVE', 'score': 0.8190571665763855},\n",
       " {'label': 'NEGATIVE', 'score': 0.9991133809089661},\n",
       " {'label': 'POSITIVE', 'score': 0.9923726320266724},\n",
       " {'label': 'POSITIVE', 'score': 0.9992936849594116},\n",
       " {'label': 'NEGATIVE', 'score': 0.9774370193481445},\n",
       " {'label': 'NEGATIVE', 'score': 0.9996756315231323},\n",
       " {'label': 'NEGATIVE', 'score': 0.9995410442352295},\n",
       " {'label': 'NEGATIVE', 'score': 0.9984436631202698},\n",
       " {'label': 'NEGATIVE', 'score': 0.8333268165588379},\n",
       " {'label': 'NEGATIVE', 'score': 0.8111277222633362},\n",
       " {'label': 'NEGATIVE', 'score': 0.985287070274353},\n",
       " {'label': 'NEGATIVE', 'score': 0.999238133430481},\n",
       " {'label': 'POSITIVE', 'score': 0.9710162281990051},\n",
       " {'label': 'NEGATIVE', 'score': 0.849596381187439},\n",
       " {'label': 'NEGATIVE', 'score': 0.9995469450950623},\n",
       " {'label': 'NEGATIVE', 'score': 0.9887545108795166},\n",
       " {'label': 'NEGATIVE', 'score': 0.9890369772911072},\n",
       " {'label': 'NEGATIVE', 'score': 0.9934098124504089},\n",
       " {'label': 'NEGATIVE', 'score': 0.9915048480033875},\n",
       " {'label': 'NEGATIVE', 'score': 0.964660108089447},\n",
       " {'label': 'POSITIVE', 'score': 0.9920274615287781},\n",
       " {'label': 'POSITIVE', 'score': 0.9140147566795349},\n",
       " {'label': 'NEGATIVE', 'score': 0.9987186193466187},\n",
       " {'label': 'NEGATIVE', 'score': 0.9594217538833618},\n",
       " {'label': 'NEGATIVE', 'score': 0.9987315535545349},\n",
       " {'label': 'NEGATIVE', 'score': 0.78450608253479},\n",
       " {'label': 'NEGATIVE', 'score': 0.9890660047531128},\n",
       " {'label': 'NEGATIVE', 'score': 0.9983571171760559},\n",
       " {'label': 'POSITIVE', 'score': 0.9886464476585388},\n",
       " {'label': 'NEGATIVE', 'score': 0.9992691874504089},\n",
       " {'label': 'POSITIVE', 'score': 0.9590713977813721},\n",
       " {'label': 'NEGATIVE', 'score': 0.9989833235740662},\n",
       " {'label': 'NEGATIVE', 'score': 0.9996469020843506},\n",
       " {'label': 'POSITIVE', 'score': 0.9865148663520813},\n",
       " {'label': 'NEGATIVE', 'score': 0.9909082651138306},\n",
       " {'label': 'NEGATIVE', 'score': 0.9839507341384888},\n",
       " {'label': 'NEGATIVE', 'score': 0.9982249140739441},\n",
       " {'label': 'NEGATIVE', 'score': 0.9976972937583923},\n",
       " {'label': 'NEGATIVE', 'score': 0.9829100966453552},\n",
       " {'label': 'NEGATIVE', 'score': 0.9655489325523376},\n",
       " {'label': 'POSITIVE', 'score': 0.9671658873558044},\n",
       " {'label': 'NEGATIVE', 'score': 0.9995706677436829},\n",
       " {'label': 'NEGATIVE', 'score': 0.9691011905670166},\n",
       " {'label': 'NEGATIVE', 'score': 0.9923229217529297},\n",
       " {'label': 'POSITIVE', 'score': 0.9278429746627808},\n",
       " {'label': 'POSITIVE', 'score': 0.9829425811767578},\n",
       " {'label': 'NEGATIVE', 'score': 0.9505859017372131},\n",
       " {'label': 'NEGATIVE', 'score': 0.9957142472267151},\n",
       " {'label': 'NEGATIVE', 'score': 0.9732576608657837},\n",
       " {'label': 'NEGATIVE', 'score': 0.9858171343803406},\n",
       " {'label': 'POSITIVE', 'score': 0.9907417297363281},\n",
       " {'label': 'NEGATIVE', 'score': 0.9989251494407654},\n",
       " {'label': 'POSITIVE', 'score': 0.9298892617225647},\n",
       " {'label': 'NEGATIVE', 'score': 0.9991023540496826},\n",
       " {'label': 'POSITIVE', 'score': 0.589367687702179},\n",
       " {'label': 'NEGATIVE', 'score': 0.999584972858429},\n",
       " {'label': 'NEGATIVE', 'score': 0.9939708709716797},\n",
       " {'label': 'POSITIVE', 'score': 0.8816498517990112},\n",
       " {'label': 'NEGATIVE', 'score': 0.9979879856109619},\n",
       " {'label': 'NEGATIVE', 'score': 0.9988390803337097},\n",
       " {'label': 'POSITIVE', 'score': 0.9996720552444458},\n",
       " {'label': 'NEGATIVE', 'score': 0.9951477646827698},\n",
       " {'label': 'POSITIVE', 'score': 0.9651341438293457},\n",
       " {'label': 'POSITIVE', 'score': 0.9997335076332092},\n",
       " {'label': 'NEGATIVE', 'score': 0.996698260307312},\n",
       " {'label': 'POSITIVE', 'score': 0.9991292357444763},\n",
       " {'label': 'NEGATIVE', 'score': 0.9973475933074951},\n",
       " {'label': 'NEGATIVE', 'score': 0.9915435314178467},\n",
       " {'label': 'POSITIVE', 'score': 0.9793373346328735},\n",
       " {'label': 'POSITIVE', 'score': 0.9980130195617676},\n",
       " {'label': 'NEGATIVE', 'score': 0.9974296689033508},\n",
       " {'label': 'NEGATIVE', 'score': 0.5937864184379578},\n",
       " {'label': 'NEGATIVE', 'score': 0.9983880519866943},\n",
       " {'label': 'NEGATIVE', 'score': 0.9912292957305908},\n",
       " {'label': 'POSITIVE', 'score': 0.9997251629829407},\n",
       " {'label': 'POSITIVE', 'score': 0.9894692897796631},\n",
       " {'label': 'NEGATIVE', 'score': 0.6929786801338196},\n",
       " {'label': 'NEGATIVE', 'score': 0.9983528852462769},\n",
       " {'label': 'POSITIVE', 'score': 0.9617775082588196},\n",
       " {'label': 'NEGATIVE', 'score': 0.9992691874504089},\n",
       " {'label': 'NEGATIVE', 'score': 0.9717538952827454},\n",
       " {'label': 'POSITIVE', 'score': 0.9954257607460022},\n",
       " {'label': 'POSITIVE', 'score': 0.9880303740501404},\n",
       " {'label': 'POSITIVE', 'score': 0.9995372295379639},\n",
       " {'label': 'POSITIVE', 'score': 0.9864137172698975},\n",
       " {'label': 'NEGATIVE', 'score': 0.913336455821991},\n",
       " {'label': 'POSITIVE', 'score': 0.9967671632766724},\n",
       " {'label': 'NEGATIVE', 'score': 0.9997847676277161},\n",
       " {'label': 'NEGATIVE', 'score': 0.9971745014190674},\n",
       " {'label': 'NEGATIVE', 'score': 0.9994730353355408},\n",
       " {'label': 'NEGATIVE', 'score': 0.9926707744598389},\n",
       " {'label': 'NEGATIVE', 'score': 0.9976527094841003}]"
      ]
     },
     "execution_count": 79,
     "metadata": {},
     "output_type": "execute_result"
    }
   ],
   "source": [
    "sentiment"
   ]
  }
 ],
 "metadata": {
  "kernelspec": {
   "display_name": "Python 3",
   "language": "python",
   "name": "python3"
  },
  "language_info": {
   "codemirror_mode": {
    "name": "ipython",
    "version": 3
   },
   "file_extension": ".py",
   "mimetype": "text/x-python",
   "name": "python",
   "nbconvert_exporter": "python",
   "pygments_lexer": "ipython3",
   "version": "3.8.8"
  }
 },
 "nbformat": 4,
 "nbformat_minor": 5
}
